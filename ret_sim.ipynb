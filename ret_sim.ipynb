{
 "cells": [
  {
   "cell_type": "code",
   "execution_count": 1,
   "metadata": {},
   "outputs": [
    {
     "name": "stderr",
     "output_type": "stream",
     "text": [
      "/home/sml09181/anaconda3/envs/jin/lib/python3.12/site-packages/tqdm/auto.py:21: TqdmWarning: IProgress not found. Please update jupyter and ipywidgets. See https://ipywidgets.readthedocs.io/en/stable/user_install.html\n",
      "  from .autonotebook import tqdm as notebook_tqdm\n"
     ]
    }
   ],
   "source": [
    "from dotenv import load_dotenv\n",
    "import os\n",
    "import re\n",
    "import pickle\n",
    "import threading\n",
    "import itertools\n",
    "import time\n",
    "import json\n",
    "import uuid\n",
    "from tqdm import tqdm \n",
    "import torch \n",
    "from collections import Counter\n",
    "\n",
    "from langchain_core.prompts import PromptTemplate, ChatPromptTemplate\n",
    "from langchain_core.stores import InMemoryByteStore\n",
    "from langchain_core.documents import Document\n",
    "from langchain_core.output_parsers import StrOutputParser\n",
    "from langchain_core.output_parsers.openai_functions import JsonKeyOutputFunctionsParser\n",
    "from langchain.retrievers.multi_vector import MultiVectorRetriever\n",
    "from langchain_upstage import ChatUpstage, UpstageEmbeddings, UpstageLayoutAnalysisLoader, UpstageGroundednessCheck\n",
    "from langchain_text_splitters import Language,RecursiveCharacterTextSplitter\n",
    "from langchain_community.vectorstores import FAISS, Chroma\n",
    "\n",
    "from langchain_community.retrievers import BM25Retriever\n",
    "from langchain.retrievers import EnsembleRetriever\n",
    "from langchain_core.runnables import RunnablePassthrough\n",
    "from langchain.schema import Document\n",
    "from datasets import load_dataset\n",
    "from langchain.agents import AgentExecutor, create_tool_calling_agent\n",
    "from langchain import hub\n",
    "from langchain.tools.retriever import create_retriever_tool\n",
    "from transformers import AutoTokenizer, AutoModelForSequenceClassification\n",
    "\n",
    "from utils import format_docs, format_arc_doc"
   ]
  },
  {
   "cell_type": "code",
   "execution_count": 5,
   "metadata": {},
   "outputs": [],
   "source": [
    "from langchain_engine.langchain_engine import *"
   ]
  },
  {
   "cell_type": "code",
   "execution_count": 6,
   "metadata": {},
   "outputs": [],
   "source": [
    "from utils import * \n",
    "import warnings\n",
    "from argparse import ArgumentParser\n",
    "from datasets import load_dataset\n",
    "\n",
    "warnings.filterwarnings('ignore') \n",
    "\n",
    "# Load configs\n",
    "load_env(\".env\")\n",
    "config = load_yaml(\"config.yaml\") \n",
    "data_root = config['data_root']\n",
    "chunk_size = config['chunk_size'] \n",
    "chunk_overlap = config['chunk_overlap']\n",
    "ewha_faiss_path = config['ewha_faiss_path']\n",
    "ewha_bm25_path = config['ewha_bm25_path'] \n",
    "arc_faiss_path = config['arc_faiss_path']\n",
    "arc_bm25_path = config['arc_bm25_path']\n",
    "summ_chroma_path = config['summ_chroma_path']\n",
    "summ_faiss_path = config['summ_faiss_path']\n",
    "pc_chroma_path = config['pc_chroma_path']\n",
    "pc_faiss_path = config['pc_faiss_path']\n",
    "raptor_faiss_path = config['raptor_faiss_path']\n",
    "top_k = config['top_k']"
   ]
  },
  {
   "cell_type": "code",
   "execution_count": 7,
   "metadata": {},
   "outputs": [],
   "source": [
    "ewha_ret1 = \"faiss\"\n",
    "ewha_ret2 = \"pc_chroma\"\n",
    "\n",
    "questions, answers = read_data(data_root, filename=\"test_samples.csv\") "
   ]
  },
  {
   "cell_type": "code",
   "execution_count": 8,
   "metadata": {},
   "outputs": [
    {
     "name": "stdout",
     "output_type": "stream",
     "text": [
      "[INFO] Loading embeddings...\n",
      "[INFO] Get retriever FAISS ...\n",
      "[INFO] Load DB from ./db/ewha/ewha_faiss_fix...\n"
     ]
    }
   ],
   "source": [
    "# returns retriever FAISS \n",
    "save_dir=\"./db/ewha/ewha_faiss_fix\"\n",
    "top_k=4\n",
    "embeddings = get_embedding()\n",
    "print(\"[INFO] Get retriever FAISS ...\")\n",
    "\n",
    "vectorstore1 = FAISS.load_local(save_dir, embeddings, allow_dangerous_deserialization=True) \n",
    "print(f\"[INFO] Load DB from {save_dir}...\") \n",
    "\n",
    "retriever1 = vectorstore1.as_retriever(search_kwargs={\"k\": top_k}) # default = 4\n",
    "\n"
   ]
  },
  {
   "cell_type": "code",
   "execution_count": null,
   "metadata": {},
   "outputs": [],
   "source": []
  },
  {
   "cell_type": "code",
   "execution_count": 4,
   "metadata": {},
   "outputs": [
    {
     "name": "stdout",
     "output_type": "stream",
     "text": [
      "[(Document(metadata={'page': 12}, page_content='또는 제2항의 학점 내에서 총장이 정하는 소정의 학점을 영\\n어강의로 이수하여야 한다. (신설 2013.11.20)\\n⑥ 스크랜튼학부 자유전공 입학생의 졸업에 필요한 학점은 제1전공의 졸업에 필요한 학점\\n으로 한다. (신설 2009.2.23.) 제48조의2(영어 및 정보인증) ① 영어 및 정보 등에 관하여 일정한 기준의 능력이나 자격을 취득한 경우 이를 각 3학점으로 인정하고 인증서를 교부할 수 있다. (개정 2015.9.18.) ② 제1항의 시행에 관한 사항은 총장이 따로 정한다. [본조신설 2000.6.20.] [제목개정 2015.'), 0.8335583), (Document(metadata={'page': 8}, page_content='. (개정\\n2001.9.24) 제35조의3(학점의 인정) ① 다음 각 호의 경우에 취득한 학점은 총장의 승인을 얻어 졸업에\\n필요한 학점의 2분의 1의 범위 안에서 이를 본교에서 취득한 것으로 본다. (개정\\n2012.12.31.) 1. 재학 중 국내외의 다른 학교에서 학점을 취득한 경우\\n2. 입학 전 국내외의 고등학교와 「고등교육법」 제2조 각 호의 학교에서 대학교육과정에 상\\n당하는 교과목을 이수한 경우\\n② 학점의 인정범위 등 제1항의 시행에 필요한 사항은 총장이 따로 정한다. (개정\\n1998.6.23) ③ 삭제 (1998.6.23.'), 0.9629625), (Document(metadata={'page': 8}, page_content='이화여자대학교 학칙 제35조의2(학점취득의 특례) ① 교양과목과 전공기초과목 중 특정교과목은 이를 수강하지 아\\n니하여도 학점취득특별시험에 의하여 학기당 최대취득학점 외에 학점을 취득할 수 있으며, 그 학점수는 12학점을 초과할 수 없다. (개정 1996.2.15., 2017.2.8.)\\n② 학점취득특별시험의 방법, 종류에 관한 세부 사항은 총장이 따로 정한다. (개정\\n2001.9.24) 제35조의3(학점의 인정) ① 다음 각 호의 경우에 취득한 학점은 총장의 승인을 얻어 졸업에\\n필요한 학점의 2분의 1의 범위 안에서 이를 본교에서 취'), 0.986871)]\n",
      "[(Document(metadata={'page': 22}, page_content='(시행일) 이 학칙은 1991년 4월 10일부터 시행한다.\\n② (경과조치) 이 학칙 시행당시 생물학과, 교육학과의 교육학전공, 유아교육전공, 초등교육\\n전공 및 과학교육과의 수학전공 재적생은 이 학칙에 의하여 각각 생물과학과, 교육학과, 유아\\n교육과, 초등교육과 및 수학교육과의 재적생으로 본다. 부칙(학무25210-508, 1992. 3. 16 개정)\\n이 학칙은 1992년 3월 16일부터 시행한다. 부칙(학무25210-1574, 1992. 12. 31 개정)\\n이 학칙은 1993년 3월 1일부터 시행한다. 부칙(학무 81412-556'), 1.3793377), (Document(metadata={'page': 25}, page_content='및 환경학전공에 재적하고 있는 것으로 본다.\\n2. 1999학년도에 공과대학 컴퓨터․전자공학부, 건축․환경시스템학부로 입학한 학생은 입학 당\\n시의 소속 학부 내에서만 전공 선택 및 전공 변경을 할 수 있다. 부칙(2000. 6. 20 개정)\\n이 학칙은 2000년 3월 1일부터 시행한다. 부칙(2000. 10. 13 개정)\\n이 학칙은 2000년 3월 1일부터 시행한다. 부칙(2001. 1. 6 개정)\\n이 학칙은 2001년 3월 1일부터 시행한다. 다만, 제8조 제3항은 2000년 11월 8일부터, 제\\n50조 제1항은 2001년 2월 1'), 1.4146092), (Document(metadata={'page': 20}, page_content='C \\uf000\\uf000 2\\nC - \\uf000\\uf000\\uf000\\nD+ \\uf000\\uf000\\uf000\\nD \\uf000\\uf000 1\\nD - \\uf000\\uf000\\uf000\\nF \\uf000\\uf000\\uf000\\uf000 0 부칙(학무 1041.3-362, 1982. 2. 14 개정)\\n이 학칙은 1982년 2월 14일부터 시행한다. 부칙(학무 1041.3-590, 1982. 3. 13 개정)\\n이 학칙은 1982년 3월 1일부터 시행한다. 부칙(학무 1041.3-1917, 1983. 11. 10 개정)\\n이 학칙은 1983년 11월 10일부터 시행한다. 부칙(학무 1041.3-187, 1984. 1. 31 개정)\\n①(시행일) 이 학칙은 1984년 1월 31일부터 시행한다.\\n②'), 1.4293778)]\n",
      "[(Document(metadata={'page': 10}, page_content='정 1988.7.28., 2015.9.18.)\\n⑥ 제24조의 규정에 의한 재학연한의 만료시까지 총평균성적이 1.70미만인 학생에 대하여\\n는 졸업을 인정하지 아니한다. (개정 2014.11.21) 제41조의2 삭제 (1988.7.28)\\n제42조(추가시험) ① 학생이 제40조제2항 각 호 또는 이에 준하는 사유로 시험에 응시할 수 없을 경우에 교과목 담당교수는 제38조제2항에 따라 추가시험을 시행할 수 있다. 다만, 그\\n성적은 제39조제1항에 의하여 산정되는 등급보다 한 등급 낮출 수 있다. (개정 2016.6. 16.) ② 추가시험은'), 1.5092242), (Document(metadata={'page': 4}, page_content='원 서류) 입학을 지원하는 자는 본교 소정의 입학원서 기타 총장이 지정한 서류\\n를 제출하여야 한다. (개정 1998.5.22) 제17조(입학전형) ① 제1학년에 입학을 지원하는 자에게는 고등학교 졸업정도로 입학전형을\\n한다. ② 입학전형은 고등학교의 학교생활기록부의 기록, 대학수학능력시험의 성적, 대학별고사(논\\n술 등 필답고사, 면접․구술고사, 신체검사, 실기․실험고사 및 교직적성․인성검사를 말한다)의\\n성적과 자기소개서 등 교과성적 외의 자료 등을 입학전형자료로 활용할 수 있다. 다만, 필\\n요한 경우에는 대학별고사를 시행하지 아니할'), 1.5156592), (Document(metadata={'page': 9}, page_content='.3\\n Co 2.0\\n C- 1.7\\n D+ 1.3\\n Do 1.0\\n D- 0.7\\n F 0 (개정 1988.7.28) ② 총장이 지정하는 교과목에 대하여는 S(합격) 또는 U(불합격)로 성적을 평가한다. 이 경\\n우 S는 성적점 계산에는 포함시키지 아니하고 졸업학점에는 산입한다. (개정 1994.9.6)\\n③ 낙제한 교과목이 필수과목인 때에는 재수강하여야 하고 선택과목인 때에는 재수강할 수\\n있다. (개정 1981.5.19., 2015.9.18.)\\n④ 이미 이수한 교과목의 성적등급이 C+이하인 경우, 해당 교과목을 재수강할 수 있으며,\\n재수강'), 1.517234)]\n",
      "[(Document(metadata={'page': 10}, page_content='제38조제2항에 따라 추가시험을 시행할 수 있다. 다만, 그\\n성적은 제39조제1항에 의하여 산정되는 등급보다 한 등급 낮출 수 있다. (개정 2016.6. 16.) ② 추가시험은 당해 학기말 시험기간 종료 후 2주일 이내에 한하여 이를 실시할 수 있다.\\n(개정 1981.5.19) 의 경우에는 그러하지 아니하다. (개정 2001.1.6., 2015.9.18., 2017.2.8., 2017.8.16.) 제43조 삭제 (1999.2.9)\\n제44조(학점의 취소) 착오 또는 부정행위로 학점을 취득하였을 때에는 이를 취소할 수 있다.\\n제44'), 1.1108298), (Document(metadata={'page': 9}, page_content=', 과제물 또는 기타 방법에 의하\\n여 실시할 수 있다. (신설 2016.6.16.) 제39조(성적) ① 학업성적은 시험 또는 평소의 성적을 참작하여 다음과 같이 분류 표시하고\\n등급에 따라 학점마다 성적점을 주며, D-이상은 급제, F는 낙제로 한다. 등급 성적점\\n A+ 4.3\\n Ao 4.0\\n A- 3.7\\n B+ 3.3\\n Bo 3.0\\n B- 2.7\\n C+ 2.3\\n Co 2.0\\n C- 1.7\\n D+ 1.3\\n Do 1.0\\n D- 0.7\\n F 0 (개정 1988.7.28) ② 총장이 지정하는 교과목에 대하여는 S(합격) 또는 U(불합격)로'), 1.1227887), (Document(metadata={'page': 10}, page_content='정 1988.7.28., 2015.9.18.)\\n⑥ 제24조의 규정에 의한 재학연한의 만료시까지 총평균성적이 1.70미만인 학생에 대하여\\n는 졸업을 인정하지 아니한다. (개정 2014.11.21) 제41조의2 삭제 (1988.7.28)\\n제42조(추가시험) ① 학생이 제40조제2항 각 호 또는 이에 준하는 사유로 시험에 응시할 수 없을 경우에 교과목 담당교수는 제38조제2항에 따라 추가시험을 시행할 수 있다. 다만, 그\\n성적은 제39조제1항에 의하여 산정되는 등급보다 한 등급 낮출 수 있다. (개정 2016.6. 16.) ② 추가시험은'), 1.1369962)]\n",
      "[(Document(metadata={'page': 9}, page_content='으로 계산한다. (개정 1988.7.28., 2015.9.18.)\\n⑥ 성적평가의 기준과 방법에 관하여는 총장이 따로 정한다.\\n[본조신설 1981.5.19.] 제40조(결석자에 대한 처리) ① 1학기 수업시간의 6분의 1 이상을 결석한 때에는 그 교과목\\n의 성적을 F 또는 U로 한다. (개정 2016.6.16., 2017.8.16.) ② 학생이 다음 각 호의 사유로 결석한 때에 사유발생 2주 이내에 증빙서류를 제출하면 교'), 1.1504383), (Document(metadata={'page': 10}, page_content='이화여자대학교 학칙 과목 담당교수는 출석으로 인정할 수 있다. (신설 2016.6.16., 개정 2017.8.16.)\\n1. 중대한 질병으로 인한 경우\\n2. 직계존비속의 사망으로 인한 경우\\n3. 주관 기관장이 증빙서류를 발행한 국제대회, 훈련, 연수 및 교육실습 등의 참가에 의한\\n경우\\n4. 그 밖에 총장 또는 교과목 담당교수가 필요하다고 인정하여 허가한 경우\\n③ 체육특기자의 대회출전 및 훈련으로 인한 출석대체인정은 1학기 수업시간의 2분의 1\\n이내로 한다. 출석대체인정을 받는 체육특기자의 기준은 총장이 별도로 정한다. (신설\\n2017'), 1.1857376), (Document(metadata={'page': 10}, page_content='③ 체육특기자의 대회출전 및 훈련으로 인한 출석대체인정은 1학기 수업시간의 2분의 1\\n이내로 한다. 출석대체인정을 받는 체육특기자의 기준은 총장이 별도로 정한다. (신설\\n2017.8.16.)\\n[제목개정 2016.6.16.] 제41조(성적불량학생에 대한 조치) ① 학기말의 평균성적이 1.60 미만인 학생은 지도교수,\\n전공주임교수, 학과장 또는 학부장의 특별지도를 받아야 한다. (개정 1996.2.15.,\\n2014.9.26., 2017.8.16.) ② 삭제 (1988.7.28)\\n③ 삭제 (1988.7.28)\\n④ 학기말의 평균성적이 1'), 1.191144)]\n",
      "[(Document(metadata={'page': 9}, page_content=', 과제물 또는 기타 방법에 의하\\n여 실시할 수 있다. (신설 2016.6.16.) 제39조(성적) ① 학업성적은 시험 또는 평소의 성적을 참작하여 다음과 같이 분류 표시하고\\n등급에 따라 학점마다 성적점을 주며, D-이상은 급제, F는 낙제로 한다. 등급 성적점\\n A+ 4.3\\n Ao 4.0\\n A- 3.7\\n B+ 3.3\\n Bo 3.0\\n B- 2.7\\n C+ 2.3\\n Co 2.0\\n C- 1.7\\n D+ 1.3\\n Do 1.0\\n D- 0.7\\n F 0 (개정 1988.7.28) ② 총장이 지정하는 교과목에 대하여는 S(합격) 또는 U(불합격)로'), 1.6155616), (Document(metadata={'page': 9}, page_content='.3\\n Co 2.0\\n C- 1.7\\n D+ 1.3\\n Do 1.0\\n D- 0.7\\n F 0 (개정 1988.7.28) ② 총장이 지정하는 교과목에 대하여는 S(합격) 또는 U(불합격)로 성적을 평가한다. 이 경\\n우 S는 성적점 계산에는 포함시키지 아니하고 졸업학점에는 산입한다. (개정 1994.9.6)\\n③ 낙제한 교과목이 필수과목인 때에는 재수강하여야 하고 선택과목인 때에는 재수강할 수\\n있다. (개정 1981.5.19., 2015.9.18.)\\n④ 이미 이수한 교과목의 성적등급이 C+이하인 경우, 해당 교과목을 재수강할 수 있으며,\\n재수강'), 1.6241742), (Document(metadata={'page': 26}, page_content='생활환경대학”으로 한다.\\n⑨ 아시아식품영양연구소 규정 중 다음과 같이 개정한다.\\n제3조 제1항, 제4조 제2항, 제5조 제2항 및 제6조 제2항 중 “가정과학대학장”을 각각 “생\\n활환경대학장”으로 한다.\\n⑩ 인간생활환경연구소 규정 중 다음과 같이 개정한다.\\n제3조 제1항, 제3조 제2항, 제3조의2 제3항, 제4조 제2항, 제5조 제2항, 제7조 제1항 및'), 1.658421)]\n",
      "[(Document(metadata={'page': 20}, page_content='이화여자대학교 학칙 부칙(학무 1041.3-932, 1981. 5. 19 개정)\\n① 이 학칙은 1981년 5월 19일부터 시행한다.\\n② 1980학년도 이전 입학생에 대하여는 제39조 제1항의 규정에 불구하고 등급에 따르는 성\\n적점을 다음과 같이 한다. 등 급 성적점\\nA+ \\uf000\\uf000\\uf000\\nA \\uf000\\uf000 4\\nA - \\uf000\\uf000\\uf000\\nB+ \\uf000\\uf000\\uf000\\nB \\uf000\\uf000 3\\nB - \\uf000\\uf000\\uf000\\nC+ \\uf000\\uf000\\uf000\\nC \\uf000\\uf000 2\\nC - \\uf000\\uf000\\uf000\\nD+ \\uf000\\uf000\\uf000\\nD \\uf000\\uf000 1\\nD - \\uf000\\uf000\\uf000\\nF \\uf000\\uf000\\uf000\\uf000 0 부칙(학무 1041.3-362, 1982. 2. 14 개정)\\n이 학칙은 1982년 2월 14일부터'), 1.6704597), (Document(metadata={'page': 20}, page_content='C \\uf000\\uf000 2\\nC - \\uf000\\uf000\\uf000\\nD+ \\uf000\\uf000\\uf000\\nD \\uf000\\uf000 1\\nD - \\uf000\\uf000\\uf000\\nF \\uf000\\uf000\\uf000\\uf000 0 부칙(학무 1041.3-362, 1982. 2. 14 개정)\\n이 학칙은 1982년 2월 14일부터 시행한다. 부칙(학무 1041.3-590, 1982. 3. 13 개정)\\n이 학칙은 1982년 3월 1일부터 시행한다. 부칙(학무 1041.3-1917, 1983. 11. 10 개정)\\n이 학칙은 1983년 11월 10일부터 시행한다. 부칙(학무 1041.3-187, 1984. 1. 31 개정)\\n①(시행일) 이 학칙은 1984년 1월 31일부터 시행한다.\\n②'), 1.6721647), (Document(metadata={'page': 2}, page_content='5.2.6.)\\n제8조(부속 및 연구기관) 본교 부속기관 및 연구기관의 설치 및 운영에 관한 사항은 본교 직 제 규정에 따른다. (개정 2015.2.6.)\\n제8조의2 삭제 (2015.2.6.)\\n제9조 삭제 (2015.2.6.) 제4장 학년, 학기, 수업일수, 휴업일 및 교원의 교수시간 (개정 1998.6.23) 제10조(학년, 학기) ① 학년은 3월 1일부터 다음해 2월 말일까지로 하고 이를 제1학기와 제2'), 1.6723307)]\n",
      "[(Document(metadata={'page': 14}, page_content='.7.28)\\n④ 삭제 (1988.7.28)\\n⑤ 삭제 (1988.7.28) 제54조(학생단체 등의 지도) 학생단체 또는 학생의 활동지도에 관한 사항은 따로 정한다.\\n(개정 1988.7.28) 제55조(간행물) 학생단체 또는 학생의 간행물 발간 및 배포에 관한 사항은 따로 정한다. (개\\n정 1988.7.28) 제56조(학생활동의 한계) 학생은 수업․연구 등 학교의 기본적인 기능과 업무수행을 방해하는 개인적 또는 집단적인 행위와 교육목적에 위반되는 활동을 할 수 없다. (개정 1988.\\n7.28) 제57조(학생생활지도) 학생의 학업 및'), 1.570363), (Document(metadata={'page': 14}, page_content='교의 기본적인 기능과 업무수행을 방해하는 개인적 또는 집단적인 행위와 교육목적에 위반되는 활동을 할 수 없다. (개정 1988.\\n7.28) 제57조(학생생활지도) 학생의 학업 및 학생생활을 지도하기 위하여 분담지도교수를 둘 수 있\\n다. (개정 1988.7.28.) 제57조의2(사회봉사활동 지원) 학생의 사회봉사활동을 위한 지원이 원활하게 이루어지도록 하\\n며, 이에 관한 세부사항은 총장이 따로 정한다. [본조신설 2012.5.17.] 제57조의3(장애학생 지원) 장애학생의 학업 및 학생생활을 위한 지원이 적극적으로 이루어지\\n도록 하며'), 1.5814035), (Document(metadata={'page': 2}, page_content='15.9.18.) [제목개정 2017.5.15.] 제5조의2(입학정원의 예외) 「고등교육법 시행령」 제29조제2항 각 호(제3호 제외)에 해당하는\\n자의 입학의 경우에는 제5조의 규정에 불구하고 그 정원이 따로 있는 것으로 본다. (개정\\n1998.5.22) 제5조의3(계약학과) ① 「산업교육진흥 및 산학연협력촉진에 관한 법률」에 의하여 국가, 지방자\\n치단체 또는 산업체 등과 계약에 의한 학과 및 학부(이하 “계약학과”)를 설치․운영할 수 있\\n다. (개정 2016.6.16.) ② 제1항에 의하여 설치․운영하는 계약학과는 별표 3과 같다'), 1.6620882)]\n",
      "[(Document(metadata={'page': 1}, page_content='“각\\n대학”이라 한다) (개정 2016.6.16.)\\n2. 호크마(HOKMA)교양대학\\n② 본교에는 대학원, 국제대학원, 통역번역대학원, 경영전문대학원, 법학전문대학원, 교육대\\n학원, 디자인대학원, 사회복지대학원, 신학대학원, 정책과학대학원, 공연예술대학원, 임상보\\n건융합대학원, 임상치의학대학원, 외국어교육특수대학원을 둔다(이하 “각 대학원”이라 한다).\\n(개정 2016.6.16., 2017.5.15.)\\n[전문개정 2015.11.27.] 제5조(학부․학과․전공 및 정원) ① 각 대학, 학부, 학과, 전공 및 모집단위별 입학정원은 별표'), 1.5773592), (Document(metadata={'page': 1}, page_content='른다.\\n제3조(위치) 본교는 서울특별시 서대문구 이화여대길 52에 둔다. (개정 2013.2.25.) 제2장 편제 제4조(대학 및 대학원) ① 본교에는 다음 각 호의 대학을 둔다. 1. 인문과학대학, 사회과학대학, 자연과학대학, 엘텍공과대학, 음악대학, 조형예술대학, 사범\\n대학, 경영대학, 신산업융합대학, 의과대학, 간호대학, 약학대학, 스크랜튼대학(이하 “각\\n대학”이라 한다) (개정 2016.6.16.)\\n2. 호크마(HOKMA)교양대학\\n② 본교에는 대학원, 국제대학원, 통역번역대학원, 경영전문대학원, 법학전문대학원, 교육대\\n학원,'), 1.5979697), (Document(metadata={'page': 1}, page_content='이화여자대학교 학칙 1946. 8. 15. 제정\\n2017. 8. 16. 개정 제1장 총칙 제1조(목적) 본교는 대한민국의 교육이념과 기독교정신을 바탕으로 하여 학술의 깊은 이론과\\n그 광범하고 정밀한 응용방법을 교수․연구하며, 인격을 도야하여 국가와 인류사회의 발전에\\n공헌할 수 있는 지도여성을 양성함을 목적으로 한다. 제2조(명칭) 본교는 이화여자대학교라 부른다.\\n제3조(위치) 본교는 서울특별시 서대문구 이화여대길 52에 둔다. (개정 2013.2.25.) 제2장 편제 제4조(대학 및 대학원) ① 본교에는 다음 각 호의 대학을 둔다.'), 1.6264839)]\n",
      "[(Document(metadata={'page': 1}, page_content='“각\\n대학”이라 한다) (개정 2016.6.16.)\\n2. 호크마(HOKMA)교양대학\\n② 본교에는 대학원, 국제대학원, 통역번역대학원, 경영전문대학원, 법학전문대학원, 교육대\\n학원, 디자인대학원, 사회복지대학원, 신학대학원, 정책과학대학원, 공연예술대학원, 임상보\\n건융합대학원, 임상치의학대학원, 외국어교육특수대학원을 둔다(이하 “각 대학원”이라 한다).\\n(개정 2016.6.16., 2017.5.15.)\\n[전문개정 2015.11.27.] 제5조(학부․학과․전공 및 정원) ① 각 대학, 학부, 학과, 전공 및 모집단위별 입학정원은 별표'), 1.7283399), (Document(metadata={'page': 9}, page_content=', 과제물 또는 기타 방법에 의하\\n여 실시할 수 있다. (신설 2016.6.16.) 제39조(성적) ① 학업성적은 시험 또는 평소의 성적을 참작하여 다음과 같이 분류 표시하고\\n등급에 따라 학점마다 성적점을 주며, D-이상은 급제, F는 낙제로 한다. 등급 성적점\\n A+ 4.3\\n Ao 4.0\\n A- 3.7\\n B+ 3.3\\n Bo 3.0\\n B- 2.7\\n C+ 2.3\\n Co 2.0\\n C- 1.7\\n D+ 1.3\\n Do 1.0\\n D- 0.7\\n F 0 (개정 1988.7.28) ② 총장이 지정하는 교과목에 대하여는 S(합격) 또는 U(불합격)로'), 1.7330146), (Document(metadata={'page': 11}, page_content='03.10.10)\\n⑥ 대학장은 학기말의 평균성적이 1.50 미만인 학생에 대하여 다음 학기의 수강학점수를 제한할 수 있다. (개정 1981.5.19.) 제46조(수강신청의 취소) 수강승인을 얻은 교과목의 수강신청을 취소하지 아니하고 수강하지\\n아니한 때에는 그 교과목의 성적은 F 또는 U로 한다. (개정 2017.8.16.) 제47조(전공, 부전공, 복수전공, 연계전공, 융합전공, 자기설계전공, 심화전공) ① 학생은 학과 또는 학부가 제공하는 전공을 이수하되, 총장의 허가를 얻어 다음 각 호의 1에 해당하는\\n전공을 이수할 수 있다.'), 1.7360984)]\n"
     ]
    }
   ],
   "source": [
    "# allowed_search_types  get_relevant_documents(\n",
    "for question in questions:\n",
    "    docs = vectorstore1.similarity_search_with_score(question, k=3)\n",
    "    print(docs)"
   ]
  },
  {
   "cell_type": "code",
   "execution_count": null,
   "metadata": {},
   "outputs": [
    {
     "name": "stdout",
     "output_type": "stream",
     "text": [
      "[INFO] # of splits: 26\n",
      "[INFO] Loading embeddings...\n"
     ]
    },
    {
     "ename": "NameError",
     "evalue": "name 'id_key' is not defined",
     "output_type": "error",
     "traceback": [
      "\u001b[0;31m---------------------------------------------------------------------------\u001b[0m",
      "\u001b[0;31mNameError\u001b[0m                                 Traceback (most recent call last)",
      "Cell \u001b[0;32mIn[9], line 31\u001b[0m\n\u001b[1;32m     26\u001b[0m \u001b[38;5;66;03m# splitter to make child chunk\u001b[39;00m\n\u001b[1;32m     27\u001b[0m child_text_splitter \u001b[38;5;241m=\u001b[39m RecursiveCharacterTextSplitter(\n\u001b[1;32m     28\u001b[0m             chunk_overlap\u001b[38;5;241m=\u001b[39mchunk_overlap,\n\u001b[1;32m     29\u001b[0m             chunk_size\u001b[38;5;241m=\u001b[39mchunk_size)\n\u001b[0;32m---> 31\u001b[0m sub_docs, data \u001b[38;5;241m=\u001b[39m \u001b[43mget_child\u001b[49m\u001b[43m(\u001b[49m\u001b[43msplits\u001b[49m\u001b[43m,\u001b[49m\u001b[43m \u001b[49m\u001b[43mdoc_ids\u001b[49m\u001b[43m,\u001b[49m\u001b[43m \u001b[49m\u001b[43mchild_text_splitter\u001b[49m\u001b[43m)\u001b[49m\n\u001b[1;32m     33\u001b[0m retriever\u001b[38;5;241m.\u001b[39mvectorstore\u001b[38;5;241m.\u001b[39madd_documents(sub_docs)\n\u001b[1;32m     34\u001b[0m retriever\u001b[38;5;241m.\u001b[39mdocstore\u001b[38;5;241m.\u001b[39mmset(\u001b[38;5;28mlist\u001b[39m(\u001b[38;5;28mzip\u001b[39m(doc_ids, splits)))\n",
      "File \u001b[0;32m~/SJ/nlp/24-LLM-Project/langchain_engine/langchain_engine.py:350\u001b[0m, in \u001b[0;36mget_child\u001b[0;34m(splits, doc_ids, child_text_splitter)\u001b[0m\n\u001b[1;32m    348\u001b[0m     _sub_docs \u001b[38;5;241m=\u001b[39m child_text_splitter\u001b[38;5;241m.\u001b[39msplit_documents([doc])\n\u001b[1;32m    349\u001b[0m     \u001b[38;5;28;01mfor\u001b[39;00m _doc \u001b[38;5;129;01min\u001b[39;00m _sub_docs:\n\u001b[0;32m--> 350\u001b[0m         _doc\u001b[38;5;241m.\u001b[39mmetadata[\u001b[43mid_key\u001b[49m] \u001b[38;5;241m=\u001b[39m _id\n\u001b[1;32m    351\u001b[0m     data[doc\u001b[38;5;241m.\u001b[39mpage_content] \u001b[38;5;241m=\u001b[39m [s\u001b[38;5;241m.\u001b[39mpage_content \u001b[38;5;28;01mfor\u001b[39;00m s \u001b[38;5;129;01min\u001b[39;00m _sub_docs]\n\u001b[1;32m    352\u001b[0m sub_docs\u001b[38;5;241m.\u001b[39mextend(_sub_docs)\n",
      "\u001b[0;31mNameError\u001b[0m: name 'id_key' is not defined"
     ]
    }
   ],
   "source": [
    "save_dir=\"./db/pc_chroma\"\n",
    "top_k=4\n",
    "chunk_size=1000\n",
    "chunk_overlap=100\n",
    "splits = load_ewha(data_root, chunk_size, chunk_overlap) \n",
    "\"\"\"Parent Document Retreiver using Chroma\"\"\"\n",
    "embeddings = get_embedding() \n",
    "#docstore_path = os.path.join(save_dir, \"docstore_pc.pkl\")\n",
    "os.makedirs(save_dir, exist_ok=True) \n",
    "\n",
    "# The vectorstore to use to index the child chunks\n",
    "vectorstore = get_chroma_vs(save_dir, embeddings, \"parent-child\")\n",
    "\n",
    "# Layer to store parent document\n",
    "store = InMemoryByteStore()\n",
    "id_key = \"doc_id\"\n",
    "retriever = MultiVectorRetriever(\n",
    "        vectorstore=vectorstore,\n",
    "        byte_store=store,\n",
    "        id_key=id_key,\n",
    "        search_kwargs={\"k\": top_k},\n",
    "    )\n",
    "\n",
    "doc_ids = [str(uuid.uuid4()) for _ in splits]\n",
    "\n",
    "# splitter to make child chunk\n",
    "child_text_splitter = RecursiveCharacterTextSplitter(\n",
    "            chunk_overlap=chunk_overlap,\n",
    "            chunk_size=chunk_size)\n",
    "\n",
    "sub_docs, data = get_child(splits, doc_ids, child_text_splitter, id_key)\n",
    "\n",
    "retriever.vectorstore.add_documents(sub_docs)\n",
    "retriever.docstore.mset(list(zip(doc_ids, splits)))"
   ]
  },
  {
   "cell_type": "code",
   "execution_count": null,
   "metadata": {},
   "outputs": [],
   "source": [
    "retriever.search_type = SearchType.similarity\n",
    "retriever.search_type = SearchType.similarity_score_threshold"
   ]
  },
  {
   "cell_type": "code",
   "execution_count": null,
   "metadata": {},
   "outputs": [],
   "source": []
  },
  {
   "cell_type": "code",
   "execution_count": null,
   "metadata": {},
   "outputs": [],
   "source": []
  },
  {
   "cell_type": "code",
   "execution_count": null,
   "metadata": {},
   "outputs": [],
   "source": []
  },
  {
   "cell_type": "code",
   "execution_count": null,
   "metadata": {},
   "outputs": [],
   "source": [
    "retriever.vectorstore.similarity_search(\"justice breyer\")[0]\n",
    "from langchain.retrievers.multi_vector import SearchType\n",
    "\n",
    "retriever.search_type = SearchType.mmr\n",
    "\n",
    "len(retriever.invoke(\"justice breyer\")[0].page_content)\n",
    "\n",
    "collection = client.create_collection(\n",
    "        name=\"collection_name\",\n",
    "        metadata={\"hnsw:space\": \"cosine\"} # l2 is the default\n",
    "    )\n",
    "res2 = db.similarity_search_with_score(query2, k=3)\n",
    "db = Chroma.from_documents(texts, embeddings)\n",
    "\n",
    "docs_score = db.similarity_search_with_score(query=query, distance_metric=\"cos\", k = 6)"
   ]
  },
  {
   "cell_type": "code",
   "execution_count": null,
   "metadata": {},
   "outputs": [],
   "source": [
    "# Load and Split documents\n",
    "splits = [];arc_data = []\n",
    "ret_dict = {\n",
    "    \"faiss\": [split_docs, get_faiss, ewha_faiss_path],\n",
    "    \"bm25\": [split_docs, get_bm25, ewha_bm25_path],\n",
    "    \"pc_faiss\": [load_ewha, get_pc_faiss, pc_faiss_path],\n",
    "    \"pc_chroma\": [load_ewha, get_pc_chroma, pc_chroma_path],\n",
    "    \"summ_faiss\": [load_ewha, get_summ_faiss, summ_faiss_path],\n",
    "    \"summ_chroma\": [load_ewha, get_summ_chroma, summ_chroma_path],\n",
    "    \"rap_faiss\": [split_docs, get_faiss, raptor_faiss_path],\n",
    "}\n",
    "\n",
    "# Make embeddings, db, and rertriever \n",
    "splits = ret_dict.get(ewha_ret1)[0](data_root, chunk_size, chunk_overlap) \n",
    "ewha_retriever1  = ret_dict.get(ewha_ret1)[1](splits, save_dir=ret_dict.get(ewha_ret1)[2], top_k=top_k, chunk_size=chunk_size, chunk_overlap=chunk_overlap)\n",
    "\n",
    "if ewha_ret2 is not None:\n",
    "    splits = ret_dict.get(ewha_ret2)[0](data_root, chunk_size, chunk_overlap) \n",
    "    ewha_retriever2  = ret_dict.get(ewha_ret2)[1](splits, save_dir=ret_dict.get(ewha_ret2)[2], top_k=top_k, chunk_size=chunk_size, chunk_overlap=chunk_overlap)\n",
    "    ewha_retriever_ensemble = get_ensemble_retriever(ewha_retriever1, ewha_retriever2, [0.5, 0.5])"
   ]
  },
  {
   "cell_type": "code",
   "execution_count": null,
   "metadata": {},
   "outputs": [],
   "source": []
  }
 ],
 "metadata": {
  "kernelspec": {
   "display_name": "jin",
   "language": "python",
   "name": "python3"
  },
  "language_info": {
   "codemirror_mode": {
    "name": "ipython",
    "version": 3
   },
   "file_extension": ".py",
   "mimetype": "text/x-python",
   "name": "python",
   "nbconvert_exporter": "python",
   "pygments_lexer": "ipython3",
   "version": "3.12.5"
  }
 },
 "nbformat": 4,
 "nbformat_minor": 2
}
