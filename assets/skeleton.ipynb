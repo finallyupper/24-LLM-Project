{
 "cells": [
  {
   "cell_type": "markdown",
   "metadata": {},
   "source": [
    "Skeleton Code"
   ]
  },
  {
   "cell_type": "code",
   "execution_count": 1,
   "metadata": {},
   "outputs": [],
   "source": [
    "#!pip install -qU langchain-community faiss-cpu"
   ]
  },
  {
   "cell_type": "code",
   "execution_count": 2,
   "metadata": {},
   "outputs": [],
   "source": [
    "from dotenv import load_dotenv \n",
    "import os \n",
    "load_dotenv(\".env\")\n",
    "UPSTAGE_API_KEY = os.getenv(\"API_KEY\")"
   ]
  },
  {
   "cell_type": "code",
   "execution_count": 3,
   "metadata": {},
   "outputs": [
    {
     "name": "stderr",
     "output_type": "stream",
     "text": [
      "/home/yoojinoh/.miniconda3/envs/deeplearning/lib/python3.8/site-packages/langchain_upstage/layout_analysis.py:135: UserWarning: UpstageLayoutAnalysisLoader is deprecated.Please use langchain_upstage.document_parse.UpstageDocumentParseLoader instead.\n",
      "  warnings.warn(\n",
      "/home/yoojinoh/.miniconda3/envs/deeplearning/lib/python3.8/site-packages/langchain_upstage/layout_analysis_parsers.py:160: UserWarning: UpstageLayoutAnalysisParser is deprecated.Please use langchain_upstage.document_parse_parsers.UpstageDocumentParseParser instead.\n",
      "  warnings.warn(\n"
     ]
    },
    {
     "name": "stdout",
     "output_type": "stream",
     "text": [
      "문서의 페이지수: 54\n"
     ]
    }
   ],
   "source": [
    "# 1. Load Documents\n",
    "from langchain_upstage import UpstageLayoutAnalysisLoader\n",
    "layzer = UpstageLayoutAnalysisLoader(api_key=UPSTAGE_API_KEY,\n",
    "                                     file_path=\"./data/ewha.pdf\",\n",
    "                                     output_type=\"text\",\n",
    "                                     split=\"page\") # Modified\n",
    "docs = layzer.load()\n",
    "print(f\"문서의 페이지수: {len(docs)}\")"
   ]
  },
  {
   "cell_type": "code",
   "execution_count": 4,
   "metadata": {},
   "outputs": [
    {
     "name": "stdout",
     "output_type": "stream",
     "text": [
      "Splits: 72\n",
      "Type : <class 'langchain_core.documents.base.Document'>\n"
     ]
    }
   ],
   "source": [
    "# 2. Split documents\n",
    "from langchain_text_splitters import Language, RecursiveCharacterTextSplitter \n",
    "# 단락 -> 문장 -> 단어 순서로 재귀적으로 분할\n",
    "text_splitter = RecursiveCharacterTextSplitter.from_language(\n",
    "    chunk_size = 1000, # # of tokens (한번에 몇개의 토큰들을 볼것인가)\n",
    "    chunk_overlap = 100, # overlap of chunks (몇개의 token은 겹치면서 chunk를 만들지) -> 커지면 #splits증가\n",
    "    language=Language.HTML \n",
    ")\n",
    "splits = text_splitter.split_documents(docs)\n",
    "print(\"Splits:\", len(splits))\n",
    "print(\"Type :\", type(splits[0]))"
   ]
  },
  {
   "cell_type": "code",
   "execution_count": 5,
   "metadata": {},
   "outputs": [
    {
     "data": {
      "text/plain": [
       "Document(metadata={'page': 6}, page_content='이화여자대학교 학칙 2017.2.8.) ③ 복수전공을 이수하는 학생, 「고등교육법 시행령」 제29조제2항의제6호 및 제7호에 해당\\n하는 학생의 재학연한은 9년을 초과할 수 없다. (개정 2014.11.21)\\n④ 재입학한 학생의 재학연한은 재입학전 재학기간을 산입하여 제1항부터 제3항까지의 해\\n당 기간을 초과할 수 없다. (개정 2014.11.21., 2017.8.16.)\\n⑤ 제15조의 규정에 의하여 편입학한 학생의 재학연한은 잔여수업연한의 2배를 초과할 수\\n없다. 다만, 이 경우 복수전공을 이수하는 학생은 잔여수업연한의 2배에 1년을 더한 연한\\n을 초과할 수 없다. (개정 2014.11.21)\\n⑥ 휴학기간은 재학연한에 산입하지 아니한다. (개정 2014.11.21) 제7장 교내전학 제25조(전과) ① 학생이 소속 학부 또는 학과의 변경(이하 “전과”라 한다)을 원할 때에는 「고\\n등교육법 시행령」 제29조제3항의 규정이 정하는 범위내에서 허가할 수 있다. (개정\\n1999.2.9., 2015.9.18.) ② 전과의 허가는 매 학년도말에 할 수 있다. (개정 1999.2.9., 2017.8.16.)\\n③ 전과의 기준․대상․절차 등 세부사항은 총장이 따로 정한다.\\n(개정 1992.3.16) 제8장 휴학, 복학, 제적, 자퇴 및 재입학 (개정 2017.8.16.) 제26조(휴학) ① 질병 기타 부득이한 사정으로 3주일 이상 수강할 수 없는 자는 총장의 허가\\n를 얻어 휴학할 수 있다. ② 총장은 건강상의 이유로 정상적인 수업을 받을 수 없다고 인정되는 자에 대하여 휴학을\\n명할 수 있다. (개정 1988.7.28)\\n③ 1회의 휴학기간은 1년 이내로 한다. 다만, 교과과정상의 필요에 따라 총장이 지정하는\\n학부, 학과 또는 전공에 있어서는 이를 1년으로 한다. (개정 1996.2.15)\\n④ 휴학기간은 통산하여 3년(건축학전공의 경우 4년, 의예과의 경우 3학기)을 초과할 수\\n없다. 다만, 임신, 출산 및 육아로 인한 휴학, 창업으로 인한 휴학은 2년 이내의 기간을,\\n군복무로 인')"
      ]
     },
     "execution_count": 5,
     "metadata": {},
     "output_type": "execute_result"
    }
   ],
   "source": [
    "splits[10]"
   ]
  },
  {
   "cell_type": "code",
   "execution_count": 6,
   "metadata": {},
   "outputs": [],
   "source": [
    "from langchain_upstage import UpstageEmbeddings\n",
    "from langchain_community.vectorstores import FAISS \n",
    "# 3. embedding 생성\n",
    "upstage_embeddings = UpstageEmbeddings(api_key=UPSTAGE_API_KEY, model = 'solar-embedding-1-large')\n",
    "# 4. DB 생성 및 저장\n",
    "vectorstore = FAISS.from_documents(documents=splits,\n",
    "                                   embedding=upstage_embeddings) \n",
    "# 5. Retriever 생성\n",
    "retriever = vectorstore.as_retriever() "
   ]
  },
  {
   "cell_type": "code",
   "execution_count": 7,
   "metadata": {},
   "outputs": [
    {
     "data": {
      "text/plain": [
       "[Document(metadata={'page': 10}, page_content='이화여자대학교 학칙 과목 담당교수는 출석으로 인정할 수 있다. (신설 2016.6.16., 개정 2017.8.16.) 1. 중대한 질병으로 인한 경우\\n2. 직계존비속의 사망으로 인한 경우\\n3. 주관 기관장이 증빙서류를 발행한 국제대회, 훈련, 연수 및 교육실습 등의 참가에 의한\\n경우\\n4. 그 밖에 총장 또는 교과목 담당교수가 필요하다고 인정하여 허가한 경우\\n③ 체육특기자의 대회출전 및 훈련으로 인한 출석대체인정은 1학기 수업시간의 2분의 1\\n이내로 한다. 출석대체인정을 받는 체육특기자의 기준은 총장이 별도로 정한다. (신설\\n2017.8.16.)\\n[제목개정 2016.6.16.] 제41조(성적불량학생에 대한 조치) ① 학기말의 평균성적이 1.60 미만인 학생은 지도교수,\\n전공주임교수, 학과장 또는 학부장의 특별지도를 받아야 한다. (개정 1996.2.15.,\\n2014.9.26., 2017.8.16.) ② 삭제 (1988.7.28)\\n③ 삭제 (1988.7.28)\\n④ 학기말의 평균성적이 1.60 미만인 학생에게는 학사경고를 하고, 학사경고를 연속 3회\\n받은 학생은 제적한다. 다만, 학사경고를 연속 3회 받아 제적된 자 또는 학사경고를 연속\\n2회 받고 다른 사유로 제적 또는 자퇴하였다가 재입학한 학생은 재입학한 후부터 학사경고\\n를 1회 받은 때에는 제적한다. (개정 2002.11.8., 2017.8.16.)\\n⑤ 성적이 불량하여 한 학년의 전 교과목 또는 일부 교과목을 재수강하여야 할 때에는 학\\n년단위로 2회에 한하여 유급시킬 수 있으며, 재학기간중 2회를 초과할 때에는 제적한다.\\n유급에 관한 사항은 따로 정한다. (개정 1988.7.28., 2015.9.18.)\\n⑥ 제24조의 규정에 의한 재학연한의 만료시까지 총평균성적이 1.70미만인 학생에 대하여\\n는 졸업을 인정하지 아니한다. (개정 2014.11.21) 제41조의2 삭제 (1988.7.28)\\n제42조(추가시험) ① 학생이 제40조제2항 각 호 또는 이에 준하는 사유로 시험에 응시할 수 없을 경우에 교과목 담당교수는'),\n",
       " Document(metadata={'page': 9}, page_content='이화여자대학교 학칙 제37조(학수번호) 각 교과목의 학수번호에 관하여는 총장이 따로 정한다.\\n제38조(시험) ① 시험은 매 학기의 중간과 학기말에 각 교과목에 대하여 정기적으로 시행한 다. 다만, 교과목에 따라 이를 시행하지 아니할 수도 있고 임시시험을 시행할 수도 있다.\\n(개정 2016.6.16.) ② 시험방법은 교과목 담당교수의 재량에 따라 필기, 구술, 과제물 또는 기타 방법에 의하\\n여 실시할 수 있다. (신설 2016.6.16.) 제39조(성적) ① 학업성적은 시험 또는 평소의 성적을 참작하여 다음과 같이 분류 표시하고\\n등급에 따라 학점마다 성적점을 주며, D-이상은 급제, F는 낙제로 한다. 등급 성적점\\n A+ 4.3\\n Ao 4.0\\n A- 3.7\\n B+ 3.3\\n Bo 3.0\\n B- 2.7\\n C+ 2.3\\n Co 2.0\\n C- 1.7\\n D+ 1.3\\n Do 1.0\\n D- 0.7\\n F 0 (개정 1988.7.28) ② 총장이 지정하는 교과목에 대하여는 S(합격) 또는 U(불합격)로 성적을 평가한다. 이 경\\n우 S는 성적점 계산에는 포함시키지 아니하고 졸업학점에는 산입한다. (개정 1994.9.6)\\n③ 낙제한 교과목이 필수과목인 때에는 재수강하여야 하고 선택과목인 때에는 재수강할 수\\n있다. (개정 1981.5.19., 2015.9.18.)\\n④ 이미 이수한 교과목의 성적등급이 C+이하인 경우, 해당 교과목을 재수강할 수 있으며,\\n재수강한 교과목의 성적은 A-를 초과할 수 없다. (신설 2015.9.18.)\\n⑤ 교과목을 재수강하였을 때의 성적점 계산에 있어서는 그 재수강전의 성적 대신 새로 이\\n수하여 득점한 성적으로 계산한다. (개정 1988.7.28., 2015.9.18.)\\n⑥ 성적평가의 기준과 방법에 관하여는 총장이 따로 정한다.\\n[본조신설 1981.5.19.] 제40조(결석자에 대한 처리) ① 1학기 수업시간의 6분의 1 이상을 결석한 때에는 그 교과목\\n의 성적을 F 또는 U로 한다. (개정 2016.6.16., 2017.8.16.)\\n② 학생이 다음 각 호의'),\n",
       " Document(metadata={'page': 11}, page_content='이화여자대학교 학칙 1. 교과과정 운영상 또는 기타 특별한 사유가 있어 총장의 승인을 얻은 경우: 21학점까지\\n취득\\n2. 직전 학기(계절학기를 제외한다)말의 평균성적이 3.75 이상인 경우: 21학점까지 취득\\n3. 제15조제2항에 따라 편입학(이하 ‘학사편입학’이라 한다)한 경우: 21학점까지 취득\\n4. 학·석사 연계과정을 이수하는 경우: 21학점까지 취득\\n5. 의과대학 의학과의 경우: 24학점까지 취득\\n6. 약학대학의 경우: 21학점까지 취득(다만, ‘기독교와 세계’ 교과목을 수강하는 학기를 포 함, 인문학 관련 교양과목을 수강하는 경우, 최대 3학기에 한하여 24학점까지 취득) ② 제1항의 규정에도 불구하고 학기당 취득기준학점인 18학점에 미달하는 때에는 2학점\\n범위 내에서 잔여 학점을 다음 학기에 추가로 수강신청할 수 있다. 이에 관한 세부사항은\\n총장이 따로 정한다. (신설 2011.12.15) ③ 승인 없이 취득기준학점을 초과하여 학점을 취득하였을 때에는 그 초과학점을 인정하지\\n아니한다. ④ 삭제 (2001.1.6)\\n⑤ 계절학기에는 6학점까지 취득하게 할 수 있다. 다만, 휴학 중인 학생은 계절학기에 등록\\n하여 3학점까지 취득할 수 있다. (개정 2003.10.10) ⑥ 대학장은 학기말의 평균성적이 1.50 미만인 학생에 대하여 다음 학기의 수강학점수를\\n제한할 수 있다. (개정 1981.5.19.) 제46조(수강신청의 취소) 수강승인을 얻은 교과목의 수강신청을 취소하지 아니하고 수강하지\\n아니한 때에는 그 교과목의 성적은 F 또는 U로 한다. (개정 2017.8.16.) 제47조(전공, 부전공, 복수전공, 연계전공, 융합전공, 자기설계전공, 심화전공) ① 학생은 학과 또는 학부가 제공하는 전공을 이수하되, 총장의 허가를 얻어 다음 각 호의 1에 해당하는\\n전공을 이수할 수 있다. (신설 1998.6.23) 1. 2 이상의 전공(이하 “복수전공”이라 한다)\\n2. 2 이상의 학과, 2 이상의 학부 또는 학과와 학부가 연계하여 제공하는 전공(이하 “연계\\n전공”이'),\n",
       " Document(metadata={'page': 10}, page_content='4.11.21) 제41조의2 삭제 (1988.7.28)\\n제42조(추가시험) ① 학생이 제40조제2항 각 호 또는 이에 준하는 사유로 시험에 응시할 수 없을 경우에 교과목 담당교수는 제38조제2항에 따라 추가시험을 시행할 수 있다. 다만, 그\\n성적은 제39조제1항에 의하여 산정되는 등급보다 한 등급 낮출 수 있다. (개정 2016.6. 16.) ② 추가시험은 당해 학기말 시험기간 종료 후 2주일 이내에 한하여 이를 실시할 수 있다.\\n(개정 1981.5.19) 제43조 삭제 (1999.2.9)\\n제44조(학점의 취소) 착오 또는 부정행위로 학점을 취득하였을 때에는 이를 취소할 수 있다.\\n제44조의2 삭제 (2014.4.7.)\\n제45조(학기당 취득학점) ① 일반학기의 취득기준학점은 18학점으로 한다. 다만, 다음 각 호 의 경우에는 그러하지 아니하다. (개정 2001.1.6., 2015.9.18., 2017.2.8., 2017.8.16.)')]"
      ]
     },
     "execution_count": 7,
     "metadata": {},
     "output_type": "execute_result"
    }
   ],
   "source": [
    "# Query 넣어서 chunk결과 확인\n",
    "retriever.invoke(\"학기말 성적이 몇점 이하면 학사경고를 받나요?\")"
   ]
  },
  {
   "cell_type": "code",
   "execution_count": 9,
   "metadata": {},
   "outputs": [],
   "source": [
    "# 6. Prompt 생성\n",
    "from langchain_core.prompts import PromptTemplate\n",
    "prompt = PromptTemplate.from_template(\n",
    "    \"\"\"\n",
    "    You are an assistant for question-answering tasks. Use the following pieces of retrieved context to answer the question. If you don't know the answer, just say that you don't know. \n",
    "    Answer in Korean.\n",
    "    ---\n",
    "    #Question:{question}\n",
    "    ---\n",
    "    #Context:{context}\n",
    "    ---\n",
    "    #Answer:\n",
    "    \"\"\"\n",
    ")\n"
   ]
  },
  {
   "cell_type": "code",
   "execution_count": 10,
   "metadata": {},
   "outputs": [],
   "source": [
    "# 7. LLM 생성\n",
    "from langchain_upstage.chat_models import ChatUpstage \n",
    "llm = ChatUpstage(api_key=UPSTAGE_API_KEY, temperature=0) "
   ]
  },
  {
   "cell_type": "code",
   "execution_count": 13,
   "metadata": {},
   "outputs": [],
   "source": [
    "# 8. chain 생성\n",
    "from langchain_core.runnables import RunnablePassthrough\n",
    "from langchain_core.output_parsers import StrOutputParser\n",
    "chain = (\n",
    "    {\"context\": retriever, \"question\": RunnablePassthrough()}\n",
    "    | prompt\n",
    "    | llm \n",
    "    | StrOutputParser() \n",
    ")"
   ]
  },
  {
   "cell_type": "code",
   "execution_count": 14,
   "metadata": {},
   "outputs": [
    {
     "data": {
      "text/plain": [
       "'학기말 성적이 1.60점 미만이면 학사경고를 받습니다.'"
      ]
     },
     "execution_count": 14,
     "metadata": {},
     "output_type": "execute_result"
    }
   ],
   "source": [
    "# Run Chain ! 만든 Chain 바탕으로 쿼리 입력하고 실행\n",
    "question = \"학기말 성적이 몇점 이하면 학사경고를 받나요?\"\n",
    "response = chain.invoke(question) # RunnablePassthrough라서\n",
    "response"
   ]
  }
 ],
 "metadata": {
  "kernelspec": {
   "display_name": "deeplearning",
   "language": "python",
   "name": "python3"
  },
  "language_info": {
   "codemirror_mode": {
    "name": "ipython",
    "version": 3
   },
   "file_extension": ".py",
   "mimetype": "text/x-python",
   "name": "python",
   "nbconvert_exporter": "python",
   "pygments_lexer": "ipython3",
   "version": "3.8.19"
  }
 },
 "nbformat": 4,
 "nbformat_minor": 2
}
